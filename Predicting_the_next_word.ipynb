{
  "nbformat": 4,
  "nbformat_minor": 0,
  "metadata": {
    "colab": {
      "provenance": []
    },
    "kernelspec": {
      "name": "python3",
      "display_name": "Python 3"
    },
    "language_info": {
      "name": "python"
    }
  },
  "cells": [
    {
      "cell_type": "markdown",
      "source": [
        "# **Packages**"
      ],
      "metadata": {
        "id": "gMH_Xlg-Evpa"
      }
    },
    {
      "cell_type": "code",
      "execution_count": 33,
      "metadata": {
        "id": "8_SXo-4PDrmz"
      },
      "outputs": [],
      "source": [
        "import numpy as np \n",
        "import tensorflow as tf \n",
        "from tensorflow.keras.preprocessing.text import Tokenizer\n",
        "from tensorflow.keras.preprocessing.sequence import pad_sequences\n",
        "from tensorflow.keras.utils import to_categorical \n",
        "import matplotlib.pyplot as plt"
      ]
    },
    {
      "cell_type": "markdown",
      "source": [
        "# **Downloading data set**"
      ],
      "metadata": {
        "id": "TE20WVcYE35X"
      }
    },
    {
      "cell_type": "markdown",
      "source": [
        "**In this notebook we will use [Shakespeare Sonnets Dataset,](https://www.opensourceshakespeare.org/views/sonnets/sonnet_view.php?range=viewrange&sonnetrange1=1&sonnetrange2=154) which contains more than 2000 lines of text extracted from Shakespeare's sonnets.**\n",
        "\n",
        "---\n",
        "\n"
      ],
      "metadata": {
        "id": "C6zjU1UoERDA"
      }
    },
    {
      "cell_type": "code",
      "source": [
        "# sonnets.txt\n",
        "!gdown --id 108jAePKK4R3BVYBbYJZ32JWUwxeMg20K"
      ],
      "metadata": {
        "id": "76-Z64lIEFUW"
      },
      "execution_count": null,
      "outputs": []
    },
    {
      "cell_type": "code",
      "source": [
        "with open('/content/drive/MyDrive/NLP projects/Text generation/sonnets.txt') as f:\n",
        "  data = f.read()\n",
        "\n",
        "corpus = data.lower().split('\\n')\n",
        "\n",
        "print(f'There are {len(corpus)} line of sonnets\\n')\n",
        "print(f'The first 6 lines looks like :')\n",
        "for i in range(6) :\n",
        "  print(f'\\t{corpus[i]}')"
      ],
      "metadata": {
        "colab": {
          "base_uri": "https://localhost:8080/"
        },
        "id": "WHWc2Cb7FN0b",
        "outputId": "78738152-9ff2-457f-b501-caacb9d942bb"
      },
      "execution_count": 6,
      "outputs": [
        {
          "output_type": "stream",
          "name": "stdout",
          "text": [
            "There are 2159 line of sonnets\n",
            "\n",
            "The first 6 lines looks like :\n",
            "\tfrom fairest creatures we desire increase,\n",
            "\tthat thereby beauty's rose might never die,\n",
            "\tbut as the riper should by time decease,\n",
            "\this tender heir might bear his memory:\n",
            "\tbut thou, contracted to thine own bright eyes,\n",
            "\tfeed'st thy light'st flame with self-substantial fuel,\n"
          ]
        }
      ]
    },
    {
      "cell_type": "markdown",
      "source": [
        "# **Tokenization**"
      ],
      "metadata": {
        "id": "fYYViJCQGmEA"
      }
    },
    {
      "cell_type": "code",
      "source": [
        "tokenizer = Tokenizer()\n",
        "tokenizer.fit_on_texts(corpus)\n",
        "\n",
        "# NOTE : +1 is the 'OOV' word\n",
        "total_words = len(tokenizer.word_index) + 1"
      ],
      "metadata": {
        "id": "57laG1lzGUyS"
      },
      "execution_count": 7,
      "outputs": []
    },
    {
      "cell_type": "markdown",
      "source": [
        "**Notation** \n",
        "\n",
        "---\n",
        "\n",
        "\n",
        "before using texts_to_sequences (converting corpus into sequences) texts_to_sequences expects a list as input and list as output while the input is a string\n",
        "* so as solution we will pass the string as list for input \n",
        "* and take the first element of the output \n",
        "* To understand more look for the next example"
      ],
      "metadata": {
        "id": "jXlt2oloHxxg"
      }
    },
    {
      "cell_type": "code",
      "source": [
        "corpus[0]"
      ],
      "metadata": {
        "colab": {
          "base_uri": "https://localhost:8080/",
          "height": 36
        },
        "id": "wPOlKOupHHc1",
        "outputId": "f093547b-1957-4235-96d8-4a3adb955152"
      },
      "execution_count": 9,
      "outputs": [
        {
          "output_type": "execute_result",
          "data": {
            "text/plain": [
              "'from fairest creatures we desire increase,'"
            ],
            "application/vnd.google.colaboratory.intrinsic+json": {
              "type": "string"
            }
          },
          "metadata": {},
          "execution_count": 9
        }
      ]
    },
    {
      "cell_type": "code",
      "source": [
        "tokenizer.texts_to_sequences(corpus[0])"
      ],
      "metadata": {
        "colab": {
          "base_uri": "https://localhost:8080/"
        },
        "id": "QBOq2OQ8JCGK",
        "outputId": "e31bad9b-da21-4971-d265-26127daad938"
      },
      "execution_count": 10,
      "outputs": [
        {
          "output_type": "execute_result",
          "data": {
            "text/plain": [
              "[[],\n",
              " [],\n",
              " [58],\n",
              " [],\n",
              " [],\n",
              " [],\n",
              " [17],\n",
              " [6],\n",
              " [],\n",
              " [],\n",
              " [],\n",
              " [],\n",
              " [],\n",
              " [],\n",
              " [],\n",
              " [],\n",
              " [17],\n",
              " [],\n",
              " [],\n",
              " [],\n",
              " [],\n",
              " [],\n",
              " [],\n",
              " [],\n",
              " [],\n",
              " [],\n",
              " [],\n",
              " [],\n",
              " [],\n",
              " [6],\n",
              " [],\n",
              " [],\n",
              " [],\n",
              " [6],\n",
              " [],\n",
              " [],\n",
              " [],\n",
              " [],\n",
              " [17],\n",
              " [],\n",
              " [],\n",
              " []]"
            ]
          },
          "metadata": {},
          "execution_count": 10
        }
      ]
    },
    {
      "cell_type": "code",
      "source": [
        "ot = tokenizer.texts_to_sequences([corpus[0]])\n",
        "ot"
      ],
      "metadata": {
        "colab": {
          "base_uri": "https://localhost:8080/"
        },
        "id": "Yeb0XidOJHXa",
        "outputId": "b71c93a5-e527-4d81-e8b3-14a540133361"
      },
      "execution_count": 14,
      "outputs": [
        {
          "output_type": "execute_result",
          "data": {
            "text/plain": [
              "[[34, 417, 877, 166, 213, 517]]"
            ]
          },
          "metadata": {},
          "execution_count": 14
        }
      ]
    },
    {
      "cell_type": "code",
      "source": [
        "output = ot[0]\n",
        "output"
      ],
      "metadata": {
        "colab": {
          "base_uri": "https://localhost:8080/"
        },
        "id": "CngU5oOtJM4U",
        "outputId": "d295c9e1-eb08-4467-8784-05c6430c0fd1"
      },
      "execution_count": 15,
      "outputs": [
        {
          "output_type": "execute_result",
          "data": {
            "text/plain": [
              "[34, 417, 877, 166, 213, 517]"
            ]
          },
          "metadata": {},
          "execution_count": 15
        }
      ]
    },
    {
      "cell_type": "markdown",
      "source": [
        "# **N-Grams**"
      ],
      "metadata": {
        "id": "jYXa4qNVJ8_a"
      }
    },
    {
      "cell_type": "code",
      "source": [
        "def n_grams(corpus, tokenizer) :\n",
        "  \"\"\"\n",
        "    Generates a list of n-gram sequences\n",
        "    \n",
        "    Args:\n",
        "        corpus (list of string): lines of texts to generate n-grams for\n",
        "        tokenizer (object): an instance of the Tokenizer class containing the word-index dictionary\n",
        "    \n",
        "    Returns:\n",
        "        input_sequences (list of int): the n-gram sequences for each line in the corpus\n",
        "  \"\"\"\n",
        "\n",
        "  input_seq = []\n",
        "\n",
        "  for line in corpus : \n",
        "    token_list = tokenizer.texts_to_sequences([line])[0]\n",
        "\n",
        "    for i in range(1, len(token_list)) :\n",
        "      n_gram_seq = token_list[:i+1]\n",
        "      input_seq.append(n_gram_seq)\n",
        "\n",
        "  return input_seq "
      ],
      "metadata": {
        "id": "Z76at-MRJVTB"
      },
      "execution_count": 18,
      "outputs": []
    },
    {
      "cell_type": "code",
      "source": [
        "first_example_sequence = n_grams([corpus[0]], tokenizer)\n",
        "\n",
        "print(\"n_gram sequences for first example look like this:\\n\")\n",
        "first_example_sequence"
      ],
      "metadata": {
        "colab": {
          "base_uri": "https://localhost:8080/"
        },
        "id": "qlYEIR2sM32p",
        "outputId": "b4aaa204-e3cd-4bb7-9548-acc1326b234e"
      },
      "execution_count": 19,
      "outputs": [
        {
          "output_type": "stream",
          "name": "stdout",
          "text": [
            "n_gram sequences for first example look like this:\n",
            "\n"
          ]
        },
        {
          "output_type": "execute_result",
          "data": {
            "text/plain": [
              "[[34, 417],\n",
              " [34, 417, 877],\n",
              " [34, 417, 877, 166],\n",
              " [34, 417, 877, 166, 213],\n",
              " [34, 417, 877, 166, 213, 517]]"
            ]
          },
          "metadata": {},
          "execution_count": 19
        }
      ]
    },
    {
      "cell_type": "code",
      "source": [
        "next_3_examples_sequence = n_grams(corpus[1:4], tokenizer)\n",
        "\n",
        "print(\"n_gram sequences for next 3 examples look like this:\\n\")\n",
        "next_3_examples_sequence"
      ],
      "metadata": {
        "colab": {
          "base_uri": "https://localhost:8080/"
        },
        "id": "_AkQYo7rM_qi",
        "outputId": "35310bb5-1291-4064-954e-ad8a87d58e82"
      },
      "execution_count": 20,
      "outputs": [
        {
          "output_type": "stream",
          "name": "stdout",
          "text": [
            "n_gram sequences for next 3 examples look like this:\n",
            "\n"
          ]
        },
        {
          "output_type": "execute_result",
          "data": {
            "text/plain": [
              "[[8, 878],\n",
              " [8, 878, 134],\n",
              " [8, 878, 134, 351],\n",
              " [8, 878, 134, 351, 102],\n",
              " [8, 878, 134, 351, 102, 156],\n",
              " [8, 878, 134, 351, 102, 156, 199],\n",
              " [16, 22],\n",
              " [16, 22, 2],\n",
              " [16, 22, 2, 879],\n",
              " [16, 22, 2, 879, 61],\n",
              " [16, 22, 2, 879, 61, 30],\n",
              " [16, 22, 2, 879, 61, 30, 48],\n",
              " [16, 22, 2, 879, 61, 30, 48, 634],\n",
              " [25, 311],\n",
              " [25, 311, 635],\n",
              " [25, 311, 635, 102],\n",
              " [25, 311, 635, 102, 200],\n",
              " [25, 311, 635, 102, 200, 25],\n",
              " [25, 311, 635, 102, 200, 25, 278]]"
            ]
          },
          "metadata": {},
          "execution_count": 20
        }
      ]
    },
    {
      "cell_type": "markdown",
      "source": [
        "**Applying for the whole corpus**\n",
        "\n",
        "---\n",
        "\n"
      ],
      "metadata": {
        "id": "P-oz9Z7rNgRg"
      }
    },
    {
      "cell_type": "code",
      "source": [
        "input_seq = n_grams(corpus, tokenizer)\n",
        "\n",
        "max_input_seq_len = max([len(i) for i in input_seq])\n",
        "\n",
        "print(f'Max length of n-grams = {max_input_seq_len}')\n",
        "print(f'len on n-grams = {len(input_seq)}')"
      ],
      "metadata": {
        "colab": {
          "base_uri": "https://localhost:8080/"
        },
        "id": "X9A4zRM4NceL",
        "outputId": "c72822ed-e664-4a3b-9e88-3f16f2078e8a"
      },
      "execution_count": 22,
      "outputs": [
        {
          "output_type": "stream",
          "name": "stdout",
          "text": [
            "Max lne of n-grams = 11\n",
            "len on n-grams = 15462\n"
          ]
        }
      ]
    },
    {
      "cell_type": "markdown",
      "source": [
        "# **Padding**"
      ],
      "metadata": {
        "id": "S_ATNSsBOvbI"
      }
    },
    {
      "cell_type": "code",
      "source": [
        "def pad_seq(input_seq, max_len) :\n",
        "  \"\"\"\n",
        "    Pads tokenized sequences to the same length\n",
        "    \n",
        "    Args:\n",
        "        input_seq (list of int): tokenized sequences to pad\n",
        "        maxlen (int): maximum length of the token sequences\n",
        "    \n",
        "    Returns:\n",
        "        padded_sequences (array of int): tokenized sequences padded to the same length\n",
        "  \"\"\"\n",
        "\n",
        "  max_seq_len = max([len(x) for x in input_seq])\n",
        "  padded_seq = np.array(pad_sequences(input_seq, maxlen = max_seq_len, padding='pre'))\n",
        "\n",
        "  return padded_seq\n"
      ],
      "metadata": {
        "id": "YwseHbSrOQoZ"
      },
      "execution_count": 30,
      "outputs": []
    },
    {
      "cell_type": "code",
      "source": [
        "first_padded_seq = pad_seq(first_example_sequence, len(first_example_sequence))\n",
        "first_padded_seq"
      ],
      "metadata": {
        "colab": {
          "base_uri": "https://localhost:8080/"
        },
        "id": "Y7Ix8LalRVeR",
        "outputId": "b3652ccd-d529-4d5e-dbd6-0a450699484a"
      },
      "execution_count": 31,
      "outputs": [
        {
          "output_type": "execute_result",
          "data": {
            "text/plain": [
              "array([[  0,   0,   0,   0,  34, 417],\n",
              "       [  0,   0,   0,  34, 417, 877],\n",
              "       [  0,   0,  34, 417, 877, 166],\n",
              "       [  0,  34, 417, 877, 166, 213],\n",
              "       [ 34, 417, 877, 166, 213, 517]], dtype=int32)"
            ]
          },
          "metadata": {},
          "execution_count": 31
        }
      ]
    },
    {
      "cell_type": "code",
      "source": [
        "# Pad the whole corpus\n",
        "padded_input_seq = pad_seq(input_seq, max_input_seq_len)\n",
        "\n",
        "print(f\"padded corpus has shape: {input_sequences.shape}\")"
      ],
      "metadata": {
        "colab": {
          "base_uri": "https://localhost:8080/"
        },
        "id": "YF5USDZkRYa-",
        "outputId": "1f3ec9dd-65b6-43da-ade8-88b090f63eb1"
      },
      "execution_count": 42,
      "outputs": [
        {
          "output_type": "stream",
          "name": "stdout",
          "text": [
            "padded corpus has shape: (15462, 11)\n"
          ]
        }
      ]
    },
    {
      "cell_type": "markdown",
      "source": [
        "# **Splitting data**"
      ],
      "metadata": {
        "id": "VR6YNSRGR2K1"
      }
    },
    {
      "cell_type": "code",
      "source": [
        "def features_and_labels(input_seq, total_words) :\n",
        "  \"\"\"\n",
        "    Generates features and labels from n-grams\n",
        "    \n",
        "    Args:\n",
        "        input_seq (list of int): sequences to split features and labels from\n",
        "        total_words (int): vocabulary size\n",
        "    \n",
        "    Returns:\n",
        "        features, one_hot_labels (array of int, array of int): arrays of features and one-hot encoded labels\n",
        "  \"\"\"\n",
        "\n",
        "  features = input_seq[:, :-1]\n",
        "  labels = input_seq[:,-1]\n",
        "  one_hot_labels  = to_categorical(labels, num_classes=total_words)\n",
        "\n",
        "  return features, one_hot_labels "
      ],
      "metadata": {
        "id": "w41vsp6WRuGK"
      },
      "execution_count": 38,
      "outputs": []
    },
    {
      "cell_type": "code",
      "source": [
        "first_features, first_labels = features_and_labels(first_padded_seq, total_words)\n",
        "\n",
        "print(f\"labels have shape: {first_labels.shape}\")\n",
        "print(\"\\nfeatures look like this:\\n\")\n",
        "first_features"
      ],
      "metadata": {
        "colab": {
          "base_uri": "https://localhost:8080/"
        },
        "id": "H66ecX-jS9E1",
        "outputId": "7fe03071-814e-460c-fa8d-064e85be3bd2"
      },
      "execution_count": 39,
      "outputs": [
        {
          "output_type": "stream",
          "name": "stdout",
          "text": [
            "labels have shape: (5, 3211)\n",
            "\n",
            "features look like this:\n",
            "\n"
          ]
        },
        {
          "output_type": "execute_result",
          "data": {
            "text/plain": [
              "array([[  0,   0,   0,   0,  34],\n",
              "       [  0,   0,   0,  34, 417],\n",
              "       [  0,   0,  34, 417, 877],\n",
              "       [  0,  34, 417, 877, 166],\n",
              "       [ 34, 417, 877, 166, 213]], dtype=int32)"
            ]
          },
          "metadata": {},
          "execution_count": 39
        }
      ]
    },
    {
      "cell_type": "code",
      "source": [
        "# Split the whole corpus\n",
        "features, labels = features_and_labels(padded_input_seq, total_words)\n",
        "\n",
        "print(f\"features have shape: {features.shape}\")\n",
        "print(f\"labels have shape: {labels.shape}\")"
      ],
      "metadata": {
        "colab": {
          "base_uri": "https://localhost:8080/"
        },
        "id": "fP-roMriTJER",
        "outputId": "f70f524e-6096-4334-e1cc-dc6313214aa7"
      },
      "execution_count": 43,
      "outputs": [
        {
          "output_type": "stream",
          "name": "stdout",
          "text": [
            "features have shape: (15462, 10)\n",
            "labels have shape: (15462, 3211)\n"
          ]
        }
      ]
    },
    {
      "cell_type": "markdown",
      "source": [
        "# **Model**"
      ],
      "metadata": {
        "id": "EUiaos9GUCUG"
      }
    },
    {
      "cell_type": "code",
      "source": [
        "def create_model(total_words, max_input_seq_len):\n",
        "  model= tf.keras.models.Sequential([\n",
        "      tf.keras.layers.Embedding(total_words, 100, input_length = max_input_seq_len -1),\n",
        "      tf.keras.layers.Bidirectional(tf.keras.layers.LSTM(150)),\n",
        "      tf.keras.layers.Dense(total_words, activation='softmax')\n",
        "  ])\n",
        "\n",
        "  model.compile(optimizer = 'adam',\n",
        "                loss = 'categorical_crossentropy',\n",
        "                metrics = ['accuracy'])\n",
        "  \n",
        "  return model\n"
      ],
      "metadata": {
        "id": "mtQgkwsSTRhX"
      },
      "execution_count": 50,
      "outputs": []
    },
    {
      "cell_type": "code",
      "source": [
        "model = create_model(total_words, max_input_seq_len)\n",
        "\n",
        "history = model.fit(features, labels, epochs= 50, verbose=1)"
      ],
      "metadata": {
        "colab": {
          "base_uri": "https://localhost:8080/"
        },
        "id": "nHJ7h-W9VhJY",
        "outputId": "05bbd9c1-70de-4fb5-d59c-2a8a4e947fc6"
      },
      "execution_count": 51,
      "outputs": [
        {
          "output_type": "stream",
          "name": "stdout",
          "text": [
            "Epoch 1/50\n",
            "484/484 [==============================] - 41s 75ms/step - loss: 6.8893 - accuracy: 0.0232\n",
            "Epoch 2/50\n",
            "484/484 [==============================] - 34s 70ms/step - loss: 6.4261 - accuracy: 0.0321\n",
            "Epoch 3/50\n",
            "484/484 [==============================] - 36s 74ms/step - loss: 6.1851 - accuracy: 0.0413\n",
            "Epoch 4/50\n",
            "484/484 [==============================] - 35s 73ms/step - loss: 5.9176 - accuracy: 0.0515\n",
            "Epoch 5/50\n",
            "484/484 [==============================] - 34s 70ms/step - loss: 5.5999 - accuracy: 0.0644\n",
            "Epoch 6/50\n",
            "484/484 [==============================] - 36s 74ms/step - loss: 5.2256 - accuracy: 0.0770\n",
            "Epoch 7/50\n",
            "484/484 [==============================] - 37s 76ms/step - loss: 4.8162 - accuracy: 0.0974\n",
            "Epoch 8/50\n",
            "484/484 [==============================] - 35s 72ms/step - loss: 4.3845 - accuracy: 0.1348\n",
            "Epoch 9/50\n",
            "484/484 [==============================] - 36s 75ms/step - loss: 3.9524 - accuracy: 0.1925\n",
            "Epoch 10/50\n",
            "484/484 [==============================] - 36s 75ms/step - loss: 3.5400 - accuracy: 0.2581\n",
            "Epoch 11/50\n",
            "484/484 [==============================] - 35s 72ms/step - loss: 3.1759 - accuracy: 0.3324\n",
            "Epoch 12/50\n",
            "484/484 [==============================] - 37s 76ms/step - loss: 2.8460 - accuracy: 0.3946\n",
            "Epoch 13/50\n",
            "484/484 [==============================] - 37s 75ms/step - loss: 2.5562 - accuracy: 0.4549\n",
            "Epoch 14/50\n",
            "484/484 [==============================] - 35s 72ms/step - loss: 2.3046 - accuracy: 0.5069\n",
            "Epoch 15/50\n",
            "484/484 [==============================] - 36s 75ms/step - loss: 2.0878 - accuracy: 0.5528\n",
            "Epoch 16/50\n",
            "484/484 [==============================] - 37s 76ms/step - loss: 1.8922 - accuracy: 0.5989\n",
            "Epoch 17/50\n",
            "484/484 [==============================] - 36s 74ms/step - loss: 1.7152 - accuracy: 0.6414\n",
            "Epoch 18/50\n",
            "484/484 [==============================] - 35s 73ms/step - loss: 1.5611 - accuracy: 0.6740\n",
            "Epoch 19/50\n",
            "484/484 [==============================] - 36s 75ms/step - loss: 1.4200 - accuracy: 0.7047\n",
            "Epoch 20/50\n",
            "484/484 [==============================] - 37s 76ms/step - loss: 1.2954 - accuracy: 0.7337\n",
            "Epoch 21/50\n",
            "484/484 [==============================] - 35s 71ms/step - loss: 1.1936 - accuracy: 0.7546\n",
            "Epoch 22/50\n",
            "484/484 [==============================] - 36s 74ms/step - loss: 1.1026 - accuracy: 0.7717\n",
            "Epoch 23/50\n",
            "484/484 [==============================] - 35s 73ms/step - loss: 1.0218 - accuracy: 0.7915\n",
            "Epoch 24/50\n",
            "484/484 [==============================] - 34s 71ms/step - loss: 0.9493 - accuracy: 0.8041\n",
            "Epoch 25/50\n",
            "484/484 [==============================] - 36s 74ms/step - loss: 0.8861 - accuracy: 0.8153\n",
            "Epoch 26/50\n",
            "484/484 [==============================] - 35s 72ms/step - loss: 0.8408 - accuracy: 0.8214\n",
            "Epoch 27/50\n",
            "484/484 [==============================] - 37s 76ms/step - loss: 0.7994 - accuracy: 0.8274\n",
            "Epoch 28/50\n",
            "484/484 [==============================] - 37s 76ms/step - loss: 0.7671 - accuracy: 0.8307\n",
            "Epoch 29/50\n",
            "484/484 [==============================] - 36s 75ms/step - loss: 0.7363 - accuracy: 0.8366\n",
            "Epoch 30/50\n",
            "484/484 [==============================] - 36s 75ms/step - loss: 0.7050 - accuracy: 0.8388\n",
            "Epoch 31/50\n",
            "484/484 [==============================] - 37s 77ms/step - loss: 0.6883 - accuracy: 0.8429\n",
            "Epoch 32/50\n",
            "484/484 [==============================] - 37s 77ms/step - loss: 0.6738 - accuracy: 0.8430\n",
            "Epoch 33/50\n",
            "484/484 [==============================] - 37s 77ms/step - loss: 0.6615 - accuracy: 0.8456\n",
            "Epoch 34/50\n",
            "484/484 [==============================] - 37s 76ms/step - loss: 0.6515 - accuracy: 0.8433\n",
            "Epoch 35/50\n",
            "484/484 [==============================] - 37s 76ms/step - loss: 0.6366 - accuracy: 0.8458\n",
            "Epoch 36/50\n",
            "484/484 [==============================] - 38s 78ms/step - loss: 0.6230 - accuracy: 0.8472\n",
            "Epoch 37/50\n",
            "484/484 [==============================] - 37s 77ms/step - loss: 0.6132 - accuracy: 0.8480\n",
            "Epoch 38/50\n",
            "484/484 [==============================] - 36s 75ms/step - loss: 0.6081 - accuracy: 0.8478\n",
            "Epoch 39/50\n",
            "484/484 [==============================] - 36s 74ms/step - loss: 0.6081 - accuracy: 0.8470\n",
            "Epoch 40/50\n",
            "484/484 [==============================] - 38s 78ms/step - loss: 0.6035 - accuracy: 0.8487\n",
            "Epoch 41/50\n",
            "484/484 [==============================] - 39s 80ms/step - loss: 0.5924 - accuracy: 0.8495\n",
            "Epoch 42/50\n",
            "484/484 [==============================] - 39s 80ms/step - loss: 0.5903 - accuracy: 0.8473\n",
            "Epoch 43/50\n",
            "484/484 [==============================] - 40s 82ms/step - loss: 0.5863 - accuracy: 0.8481\n",
            "Epoch 44/50\n",
            "484/484 [==============================] - 39s 81ms/step - loss: 0.5835 - accuracy: 0.8485\n",
            "Epoch 45/50\n",
            "484/484 [==============================] - 39s 81ms/step - loss: 0.5806 - accuracy: 0.8489\n",
            "Epoch 46/50\n",
            "484/484 [==============================] - 39s 80ms/step - loss: 0.5735 - accuracy: 0.8492\n",
            "Epoch 47/50\n",
            "484/484 [==============================] - 38s 78ms/step - loss: 0.5721 - accuracy: 0.8489\n",
            "Epoch 48/50\n",
            "484/484 [==============================] - 38s 78ms/step - loss: 0.5707 - accuracy: 0.8481\n",
            "Epoch 49/50\n",
            "484/484 [==============================] - 39s 80ms/step - loss: 0.5678 - accuracy: 0.8487\n",
            "Epoch 50/50\n",
            "484/484 [==============================] - 38s 80ms/step - loss: 0.5658 - accuracy: 0.8486\n"
          ]
        }
      ]
    },
    {
      "cell_type": "code",
      "source": [
        "model.save('Next_words.h5')"
      ],
      "metadata": {
        "id": "dSo75bB9aA8Y"
      },
      "execution_count": 52,
      "outputs": []
    },
    {
      "cell_type": "code",
      "source": [
        "acc = history.history['accuracy']\n",
        "loss = history.history['loss']\n",
        "\n",
        "epochs = range(len(acc))\n",
        "\n",
        "plt.plot(epochs, acc, 'b', label='Training accuracy')\n",
        "plt.title('Training accuracy')\n",
        "\n",
        "plt.figure()\n",
        "\n",
        "plt.plot(epochs, loss, 'r', label='Training Loss')\n",
        "plt.title('Training loss')\n",
        "plt.legend()\n",
        "\n",
        "plt.show()"
      ],
      "metadata": {
        "colab": {
          "base_uri": "https://localhost:8080/",
          "height": 545
        },
        "id": "-EEKMDNGV-ou",
        "outputId": "094ce371-47ef-47e7-bc58-9dc5ff892d55"
      },
      "execution_count": 54,
      "outputs": [
        {
          "output_type": "display_data",
          "data": {
            "text/plain": [
              "<Figure size 432x288 with 1 Axes>"
            ],
            "image/png": "[encoded data removed]"
          },
          "metadata": {
            "needs_background": "light"
          }
        },
        {
          "output_type": "display_data",
          "data": {
            "text/plain": [
              "<Figure size 432x288 with 1 Axes>"
            ],
            "image/png": "[encoded data removed]"
          },
          "metadata": {
            "needs_background": "light"
          }
        }
      ]
    },
    {
      "cell_type": "markdown",
      "source": [
        "# **History as pickle**"
      ],
      "metadata": {
        "id": "bOby1WQJZmHG"
      }
    },
    {
      "cell_type": "code",
      "source": [
        "def download_history():\n",
        "  import pickle\n",
        "  from google.colab import files\n",
        "\n",
        "  with open('history.pkl', 'wb') as f:\n",
        "    pickle.dump(history.history, f)\n",
        "\n",
        "  files.download('history.pkl')\n",
        "\n",
        "download_history()"
      ],
      "metadata": {
        "colab": {
          "base_uri": "https://localhost:8080/",
          "height": 17
        },
        "id": "BXlRHZinZbHn",
        "outputId": "6a40b5fc-b424-4611-fd89-11ca3fd3f1fd"
      },
      "execution_count": 55,
      "outputs": [
        {
          "output_type": "display_data",
          "data": {
            "text/plain": [
              "<IPython.core.display.Javascript object>"
            ],
            "application/javascript": [
              "\n",
              "    async function download(id, filename, size) {\n",
              "      if (!google.colab.kernel.accessAllowed) {\n",
              "        return;\n",
              "      }\n",
              "      const div = document.createElement('div');\n",
              "      const label = document.createElement('label');\n",
              "      label.textContent = `Downloading \"${filename}\": `;\n",
              "      div.appendChild(label);\n",
              "      const progress = document.createElement('progress');\n",
              "      progress.max = size;\n",
              "      div.appendChild(progress);\n",
              "      document.body.appendChild(div);\n",
              "\n",
              "      const buffers = [];\n",
              "      let downloaded = 0;\n",
              "\n",
              "      const channel = await google.colab.kernel.comms.open(id);\n",
              "      // Send a message to notify the kernel that we're ready.\n",
              "      channel.send({})\n",
              "\n",
              "      for await (const message of channel.messages) {\n",
              "        // Send a message to notify the kernel that we're ready.\n",
              "        channel.send({})\n",
              "        if (message.buffers) {\n",
              "          for (const buffer of message.buffers) {\n",
              "            buffers.push(buffer);\n",
              "            downloaded += buffer.byteLength;\n",
              "            progress.value = downloaded;\n",
              "          }\n",
              "        }\n",
              "      }\n",
              "      const blob = new Blob(buffers, {type: 'application/binary'});\n",
              "      const a = document.createElement('a');\n",
              "      a.href = window.URL.createObjectURL(blob);\n",
              "      a.download = filename;\n",
              "      div.appendChild(a);\n",
              "      a.click();\n",
              "      div.remove();\n",
              "    }\n",
              "  "
            ]
          },
          "metadata": {}
        },
        {
          "output_type": "display_data",
          "data": {
            "text/plain": [
              "<IPython.core.display.Javascript object>"
            ],
            "application/javascript": [
              "download(\"download_8dfa86e9-c5ca-4f5d-b23e-dd04313bf692\", \"history.pkl\", 942)"
            ]
          },
          "metadata": {}
        }
      ]
    },
    {
      "cell_type": "markdown",
      "source": [
        "# **Model in action**"
      ],
      "metadata": {
        "id": "nhu2e8xvZh9u"
      }
    },
    {
      "cell_type": "code",
      "source": [
        "seed_text = \"Help me Obi Wan Kenobi, you're my only hope\"\n",
        "next_words = 100\n",
        "  \n",
        "for _ in range(next_words):\n",
        "\t# Convert the text into sequences\n",
        "\ttoken_list = tokenizer.texts_to_sequences([seed_text])[0]\n",
        "\t# Pad the sequences\n",
        "\ttoken_list = pad_sequences([token_list], maxlen=max_input_seq_len-1, padding='pre')\n",
        "\t# Get the probabilities of predicting a word\n",
        "\tpredicted = model.predict(token_list, verbose=0)\n",
        "\t# Choose the next word based on the maximum probability\n",
        "\tpredicted = np.argmax(predicted, axis=-1).item()\n",
        "\t# Get the actual word from the word index\n",
        "\toutput_word = tokenizer.index_word[predicted]\n",
        "\t# Append to the current text\n",
        "\tseed_text += \" \" + output_word\n",
        "\n",
        "print(seed_text)\n",
        "     "
      ],
      "metadata": {
        "colab": {
          "base_uri": "https://localhost:8080/"
        },
        "id": "GXrgtdWXZhQ-",
        "outputId": "1c27809e-a09a-45fc-eda8-3b13a77ac070"
      },
      "execution_count": 57,
      "outputs": [
        {
          "output_type": "stream",
          "name": "stdout",
          "text": [
            "Help me Obi Wan Kenobi, you're my only hope and loss of thine eyes thee her all too near me 'will ' have end it told i joy have it no old glad is best ' that that mine eye not lies lies near 'will so free ' speak the ever looks now may say you so poet is not so show ' ' with thee with me can mine eye eye with thy part ' with my tongue one part may know thy place thy 'will ' blind lie with mine own bright thy part ever thee i think thee thence her chest live wide treasure new long\n"
          ]
        }
      ]
    },
    {
      "cell_type": "code",
      "source": [],
      "metadata": {
        "id": "BOx1sPKcdj5m"
      },
      "execution_count": null,
      "outputs": []
    }
  ]
}